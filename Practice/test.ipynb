{
 "cells": [
  {
   "cell_type": "code",
   "execution_count": 1,
   "metadata": {},
   "outputs": [],
   "source": [
    "from openai import OpenAI\n",
    "import openai\n",
    "import time\n",
    "\n",
    "# API Keys List\n",
    "API_KEYS = [\n",
    "    \"1fe618ed-bb32-408e-a481-57f9c477692f\",\n",
    "    \"60c63e5e-0082-4fa6-a642-f8d678f61ddc\",\n",
    "    \"f1d22e5a-d33e-4d1a-a3f9-c99e22749b0b\"\n",
    "]\n",
    "api_key_index = 0\n",
    "\n",
    "# 初始化 OpenAI 客户端\n",
    "client = OpenAI(base_url=\"https://api.sambanova.ai/v1\", api_key=API_KEYS[api_key_index])"
   ]
  },
  {
   "cell_type": "code",
   "execution_count": 2,
   "metadata": {},
   "outputs": [],
   "source": [
    "\n",
    "def code_generation(systemMessage, userMessage, retries=100, delay=1):\n",
    "    global api_key_index\n",
    "\n",
    "    for attempt in range(retries):\n",
    "        try:\n",
    "            completion = client.chat.completions.create(\n",
    "                model=\"Meta-Llama-3.1-8B-Instruct\",\n",
    "                messages=[\n",
    "                    {\"role\": \"system\", \"content\": systemMessage},\n",
    "                    {\"role\": \"user\", \"content\": userMessage}\n",
    "                ],\n",
    "                stream=True,\n",
    "                stream_options={\"include_usage\": True}\n",
    "            )\n",
    "\n",
    "            full_response = \"\"\n",
    "            tokens = 0\n",
    "            for chunk in completion:\n",
    "                if chunk.choices:\n",
    "                    delta = chunk.choices[0].delta\n",
    "                    if hasattr(delta, 'content'):\n",
    "                        full_response += delta.content\n",
    "                if chunk.usage:\n",
    "                    tokens += chunk.usage.completion_tokens\n",
    "\n",
    "            return full_response, tokens\n",
    "\n",
    "        except openai.RateLimitError:\n",
    "            print(f\"Request rate limit exceeded, switching API key...\")\n",
    "            api_key_index = (api_key_index + 1) % len(API_KEYS)  # change the API\n",
    "            client.api_key = API_KEYS[api_key_index]  # update the API\n",
    "            time.sleep(delay)  # wait\n",
    "        except Exception as e:\n",
    "            print(f\"Error occurred while generating code, retrying after {delay} seconds...\")\n",
    "            time.sleep(delay)\n",
    "\n",
    "    return None, 0"
   ]
  },
  {
   "cell_type": "code",
   "execution_count": 3,
   "metadata": {},
   "outputs": [],
   "source": [
    "delimiter = \"####\""
   ]
  },
  {
   "cell_type": "code",
   "execution_count": 4,
   "metadata": {},
   "outputs": [],
   "source": [
    "systemMessage = f\"\"\"\n",
    "You will be provided with customer service queries. \\\n",
    "The customer service query will be delimited with \\\n",
    "{delimiter} characters.\n",
    "Classify each query into a primary category \\\n",
    "and a secondary category.\n",
    "Provide your output in json format with the \\\n",
    "keys: primary and secondary.\n",
    "\n",
    "Primary categories: Billing, Technical Support, \\\n",
    "Account Management, or General Inquiry.\n",
    "\n",
    "Billing secondary categories:\n",
    "Unsubscribe or upgrade\n",
    "Add a payment method\n",
    "Explanation for charge\n",
    "Dispute a charge\n",
    "\n",
    "Technical Support secondary categories:\n",
    "General troubleshooting\n",
    "Device compatibility\n",
    "Software updates\n",
    "\n",
    "Account Management secondary categories:\n",
    "Password reset\n",
    "Update personal information\n",
    "Close account\n",
    "Account security\n",
    "\n",
    "General Inquiry secondary categories:\n",
    "Product information\n",
    "Pricing\n",
    "Feedback\n",
    "Speak to a human\n",
    "\n",
    "\"\"\""
   ]
  },
  {
   "cell_type": "code",
   "execution_count": 5,
   "metadata": {},
   "outputs": [],
   "source": [
    "userMessage = f\"\"\"\\\n",
    "I want you to delete my profile and all of my user data\"\"\""
   ]
  },
  {
   "cell_type": "code",
   "execution_count": 6,
   "metadata": {},
   "outputs": [
    {
     "name": "stdout",
     "output_type": "stream",
     "text": [
      "{\n",
      "  \"primary\": \"Account Management\",\n",
      "  \"secondary\": \"Close account\"\n",
      "}\n"
     ]
    }
   ],
   "source": [
    "response, token = code_generation(systemMessage, f\"{delimiter}{userMessage}{delimiter}\")\n",
    "print(response)"
   ]
  },
  {
   "cell_type": "code",
   "execution_count": 7,
   "metadata": {},
   "outputs": [
    {
     "name": "stdout",
     "output_type": "stream",
     "text": [
      "{\n",
      "  \"primary\": \"General Inquiry\",\n",
      "  \"secondary\": \"Product information\"\n",
      "}\n"
     ]
    }
   ],
   "source": [
    "userMessage = f\"\"\"\\\n",
    "Tell me more about your flat screen tvs\"\"\"\n",
    "response, token = code_generation(systemMessage, f\"{delimiter}{userMessage}{delimiter}\")\n",
    "print(response)"
   ]
  }
 ],
 "metadata": {
  "kernelspec": {
   "display_name": "Python 3.10.15 ('comp7607')",
   "language": "python",
   "name": "python3"
  },
  "language_info": {
   "codemirror_mode": {
    "name": "ipython",
    "version": 3
   },
   "file_extension": ".py",
   "mimetype": "text/x-python",
   "name": "python",
   "nbconvert_exporter": "python",
   "pygments_lexer": "ipython3",
   "version": "3.10.15"
  },
  "orig_nbformat": 4,
  "vscode": {
   "interpreter": {
    "hash": "8e1ea3e680e83cefc2fd1ab7d51cf805e8c8b1fbb5fb023de8c75512ca2fb845"
   }
  }
 },
 "nbformat": 4,
 "nbformat_minor": 2
}
